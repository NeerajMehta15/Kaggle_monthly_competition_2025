{
 "cells": [
  {
   "cell_type": "code",
   "execution_count": 1,
   "id": "1afbfc70",
   "metadata": {
    "_cell_guid": "b1076dfc-b9ad-4769-8c92-a6c4dae69d19",
    "_uuid": "8f2839f25d086af736a60e9eeb907d3b93b6e0e5",
    "execution": {
     "iopub.execute_input": "2025-05-12T02:05:17.438959Z",
     "iopub.status.busy": "2025-05-12T02:05:17.438653Z",
     "iopub.status.idle": "2025-05-12T02:05:19.234529Z",
     "shell.execute_reply": "2025-05-12T02:05:19.233565Z"
    },
    "papermill": {
     "duration": 1.801908,
     "end_time": "2025-05-12T02:05:19.236129",
     "exception": false,
     "start_time": "2025-05-12T02:05:17.434221",
     "status": "completed"
    },
    "tags": []
   },
   "outputs": [
    {
     "name": "stdout",
     "output_type": "stream",
     "text": [
      "/kaggle/input/playground-series-s5e5/sample_submission.csv\n",
      "/kaggle/input/playground-series-s5e5/train.csv\n",
      "/kaggle/input/playground-series-s5e5/test.csv\n"
     ]
    }
   ],
   "source": [
    "# This Python 3 environment comes with many helpful analytics libraries installed\n",
    "# It is defined by the kaggle/python Docker image: https://github.com/kaggle/docker-python\n",
    "# For example, here's several helpful packages to load\n",
    "\n",
    "import numpy as np # linear algebra\n",
    "import pandas as pd # data processing, CSV file I/O (e.g. pd.read_csv)\n",
    "\n",
    "# Input data files are available in the read-only \"../input/\" directory\n",
    "# For example, running this (by clicking run or pressing Shift+Enter) will list all files under the input directory\n",
    "\n",
    "import os\n",
    "for dirname, _, filenames in os.walk('/kaggle/input'):\n",
    "    for filename in filenames:\n",
    "        print(os.path.join(dirname, filename))\n",
    "\n",
    "# You can write up to 20GB to the current directory (/kaggle/working/) that gets preserved as output when you create a version using \"Save & Run All\" \n",
    "# You can also write temporary files to /kaggle/temp/, but they won't be saved outside of the current session"
   ]
  },
  {
   "cell_type": "code",
   "execution_count": 2,
   "id": "274345b4",
   "metadata": {
    "execution": {
     "iopub.execute_input": "2025-05-12T02:05:19.243625Z",
     "iopub.status.busy": "2025-05-12T02:05:19.243213Z",
     "iopub.status.idle": "2025-05-12T02:05:27.422992Z",
     "shell.execute_reply": "2025-05-12T02:05:27.421818Z"
    },
    "papermill": {
     "duration": 8.185219,
     "end_time": "2025-05-12T02:05:27.424633",
     "exception": false,
     "start_time": "2025-05-12T02:05:19.239414",
     "status": "completed"
    },
    "tags": []
   },
   "outputs": [],
   "source": [
    "# Standard libraries\n",
    "import numpy as np\n",
    "import pandas as pd\n",
    "import matplotlib.pyplot as plt\n",
    "import seaborn as sns\n",
    "\n",
    "# Scikit-learn models for Regression\n",
    "from sklearn.ensemble import (\n",
    "    AdaBoostRegressor,\n",
    "    BaggingRegressor,\n",
    "    ExtraTreesRegressor,\n",
    "    GradientBoostingRegressor,\n",
    "    HistGradientBoostingRegressor,\n",
    "    RandomForestRegressor,\n",
    "    VotingRegressor,\n",
    ")\n",
    "from sklearn.linear_model import Ridge, LinearRegression\n",
    "from sklearn.metrics import (\n",
    "    mean_squared_error,\n",
    "    mean_absolute_error,\n",
    "    r2_score,\n",
    "    mean_squared_log_error,\n",
    ")\n",
    "from sklearn.model_selection import (\n",
    "    KFold,\n",
    "    cross_val_score,\n",
    "    train_test_split,\n",
    ")\n",
    "from sklearn.neighbors import KNeighborsRegressor\n",
    "from sklearn.neural_network import MLPRegressor\n",
    "from sklearn.svm import SVR\n",
    "from sklearn.tree import DecisionTreeRegressor\n",
    "\n",
    "# Other machine learning libraries\n",
    "from catboost import CatBoostRegressor\n",
    "from lightgbm import LGBMRegressor\n",
    "from xgboost import XGBRegressor\n",
    "\n",
    "# Preprocessing and pipelines\n",
    "from sklearn.pipeline import make_pipeline , Pipeline\n",
    "from sklearn.impute import SimpleImputer\n",
    "from sklearn.preprocessing import StandardScaler, OneHotEncoder,LabelEncoder\n",
    "from sklearn.compose import ColumnTransformer\n"
   ]
  },
  {
   "cell_type": "code",
   "execution_count": 3,
   "id": "da03cd9a",
   "metadata": {
    "execution": {
     "iopub.execute_input": "2025-05-12T02:05:27.431957Z",
     "iopub.status.busy": "2025-05-12T02:05:27.431384Z",
     "iopub.status.idle": "2025-05-12T02:05:28.559122Z",
     "shell.execute_reply": "2025-05-12T02:05:28.558398Z"
    },
    "papermill": {
     "duration": 1.132916,
     "end_time": "2025-05-12T02:05:28.560617",
     "exception": false,
     "start_time": "2025-05-12T02:05:27.427701",
     "status": "completed"
    },
    "tags": []
   },
   "outputs": [],
   "source": [
    "train = pd.read_csv('/kaggle/input/playground-series-s5e5/train.csv')\n",
    "test = pd.read_csv('/kaggle/input/playground-series-s5e5/test.csv')"
   ]
  },
  {
   "cell_type": "code",
   "execution_count": 4,
   "id": "b76752e2",
   "metadata": {
    "execution": {
     "iopub.execute_input": "2025-05-12T02:05:28.567904Z",
     "iopub.status.busy": "2025-05-12T02:05:28.567606Z",
     "iopub.status.idle": "2025-05-12T02:05:28.647951Z",
     "shell.execute_reply": "2025-05-12T02:05:28.647059Z"
    },
    "papermill": {
     "duration": 0.085788,
     "end_time": "2025-05-12T02:05:28.649479",
     "exception": false,
     "start_time": "2025-05-12T02:05:28.563691",
     "status": "completed"
    },
    "tags": []
   },
   "outputs": [
    {
     "data": {
      "text/html": [
       "<style type=\"text/css\">\n",
       "#T_6e33b th {\n",
       "  background-color: #1976d2;\n",
       "  color: white;\n",
       "  font-weight: bold;\n",
       "}\n",
       "#T_6e33b_row0_col0, #T_6e33b_row0_col1, #T_6e33b_row0_col2, #T_6e33b_row0_col3, #T_6e33b_row0_col4, #T_6e33b_row0_col5, #T_6e33b_row0_col6, #T_6e33b_row0_col7, #T_6e33b_row0_col8, #T_6e33b_row1_col0, #T_6e33b_row1_col1, #T_6e33b_row1_col2, #T_6e33b_row1_col3, #T_6e33b_row1_col4, #T_6e33b_row1_col5, #T_6e33b_row1_col6, #T_6e33b_row1_col7, #T_6e33b_row1_col8, #T_6e33b_row2_col0, #T_6e33b_row2_col1, #T_6e33b_row2_col2, #T_6e33b_row2_col3, #T_6e33b_row2_col4, #T_6e33b_row2_col5, #T_6e33b_row2_col6, #T_6e33b_row2_col7, #T_6e33b_row2_col8, #T_6e33b_row3_col0, #T_6e33b_row3_col1, #T_6e33b_row3_col2, #T_6e33b_row3_col3, #T_6e33b_row3_col4, #T_6e33b_row3_col5, #T_6e33b_row3_col6, #T_6e33b_row3_col7, #T_6e33b_row3_col8, #T_6e33b_row4_col0, #T_6e33b_row4_col1, #T_6e33b_row4_col2, #T_6e33b_row4_col3, #T_6e33b_row4_col4, #T_6e33b_row4_col5, #T_6e33b_row4_col6, #T_6e33b_row4_col7, #T_6e33b_row4_col8 {\n",
       "  background-color: #f9f9f9;\n",
       "  color: #333333;\n",
       "  border: 1px solid #ccc;\n",
       "  font-weight: normal;\n",
       "}\n",
       "</style>\n",
       "<table id=\"T_6e33b\">\n",
       "  <thead>\n",
       "    <tr>\n",
       "      <th class=\"blank level0\" >&nbsp;</th>\n",
       "      <th id=\"T_6e33b_level0_col0\" class=\"col_heading level0 col0\" >id</th>\n",
       "      <th id=\"T_6e33b_level0_col1\" class=\"col_heading level0 col1\" >Sex</th>\n",
       "      <th id=\"T_6e33b_level0_col2\" class=\"col_heading level0 col2\" >Age</th>\n",
       "      <th id=\"T_6e33b_level0_col3\" class=\"col_heading level0 col3\" >Height</th>\n",
       "      <th id=\"T_6e33b_level0_col4\" class=\"col_heading level0 col4\" >Weight</th>\n",
       "      <th id=\"T_6e33b_level0_col5\" class=\"col_heading level0 col5\" >Duration</th>\n",
       "      <th id=\"T_6e33b_level0_col6\" class=\"col_heading level0 col6\" >Heart_Rate</th>\n",
       "      <th id=\"T_6e33b_level0_col7\" class=\"col_heading level0 col7\" >Body_Temp</th>\n",
       "      <th id=\"T_6e33b_level0_col8\" class=\"col_heading level0 col8\" >Calories</th>\n",
       "    </tr>\n",
       "  </thead>\n",
       "  <tbody>\n",
       "    <tr>\n",
       "      <th id=\"T_6e33b_level0_row0\" class=\"row_heading level0 row0\" >0</th>\n",
       "      <td id=\"T_6e33b_row0_col0\" class=\"data row0 col0\" >0</td>\n",
       "      <td id=\"T_6e33b_row0_col1\" class=\"data row0 col1\" >male</td>\n",
       "      <td id=\"T_6e33b_row0_col2\" class=\"data row0 col2\" >36</td>\n",
       "      <td id=\"T_6e33b_row0_col3\" class=\"data row0 col3\" >189.00</td>\n",
       "      <td id=\"T_6e33b_row0_col4\" class=\"data row0 col4\" >82.00</td>\n",
       "      <td id=\"T_6e33b_row0_col5\" class=\"data row0 col5\" >26.00</td>\n",
       "      <td id=\"T_6e33b_row0_col6\" class=\"data row0 col6\" >101.00</td>\n",
       "      <td id=\"T_6e33b_row0_col7\" class=\"data row0 col7\" >41.00</td>\n",
       "      <td id=\"T_6e33b_row0_col8\" class=\"data row0 col8\" >150.00</td>\n",
       "    </tr>\n",
       "    <tr>\n",
       "      <th id=\"T_6e33b_level0_row1\" class=\"row_heading level0 row1\" >1</th>\n",
       "      <td id=\"T_6e33b_row1_col0\" class=\"data row1 col0\" >1</td>\n",
       "      <td id=\"T_6e33b_row1_col1\" class=\"data row1 col1\" >female</td>\n",
       "      <td id=\"T_6e33b_row1_col2\" class=\"data row1 col2\" >64</td>\n",
       "      <td id=\"T_6e33b_row1_col3\" class=\"data row1 col3\" >163.00</td>\n",
       "      <td id=\"T_6e33b_row1_col4\" class=\"data row1 col4\" >60.00</td>\n",
       "      <td id=\"T_6e33b_row1_col5\" class=\"data row1 col5\" >8.00</td>\n",
       "      <td id=\"T_6e33b_row1_col6\" class=\"data row1 col6\" >85.00</td>\n",
       "      <td id=\"T_6e33b_row1_col7\" class=\"data row1 col7\" >39.70</td>\n",
       "      <td id=\"T_6e33b_row1_col8\" class=\"data row1 col8\" >34.00</td>\n",
       "    </tr>\n",
       "    <tr>\n",
       "      <th id=\"T_6e33b_level0_row2\" class=\"row_heading level0 row2\" >2</th>\n",
       "      <td id=\"T_6e33b_row2_col0\" class=\"data row2 col0\" >2</td>\n",
       "      <td id=\"T_6e33b_row2_col1\" class=\"data row2 col1\" >female</td>\n",
       "      <td id=\"T_6e33b_row2_col2\" class=\"data row2 col2\" >51</td>\n",
       "      <td id=\"T_6e33b_row2_col3\" class=\"data row2 col3\" >161.00</td>\n",
       "      <td id=\"T_6e33b_row2_col4\" class=\"data row2 col4\" >64.00</td>\n",
       "      <td id=\"T_6e33b_row2_col5\" class=\"data row2 col5\" >7.00</td>\n",
       "      <td id=\"T_6e33b_row2_col6\" class=\"data row2 col6\" >84.00</td>\n",
       "      <td id=\"T_6e33b_row2_col7\" class=\"data row2 col7\" >39.80</td>\n",
       "      <td id=\"T_6e33b_row2_col8\" class=\"data row2 col8\" >29.00</td>\n",
       "    </tr>\n",
       "    <tr>\n",
       "      <th id=\"T_6e33b_level0_row3\" class=\"row_heading level0 row3\" >3</th>\n",
       "      <td id=\"T_6e33b_row3_col0\" class=\"data row3 col0\" >3</td>\n",
       "      <td id=\"T_6e33b_row3_col1\" class=\"data row3 col1\" >male</td>\n",
       "      <td id=\"T_6e33b_row3_col2\" class=\"data row3 col2\" >20</td>\n",
       "      <td id=\"T_6e33b_row3_col3\" class=\"data row3 col3\" >192.00</td>\n",
       "      <td id=\"T_6e33b_row3_col4\" class=\"data row3 col4\" >90.00</td>\n",
       "      <td id=\"T_6e33b_row3_col5\" class=\"data row3 col5\" >25.00</td>\n",
       "      <td id=\"T_6e33b_row3_col6\" class=\"data row3 col6\" >105.00</td>\n",
       "      <td id=\"T_6e33b_row3_col7\" class=\"data row3 col7\" >40.70</td>\n",
       "      <td id=\"T_6e33b_row3_col8\" class=\"data row3 col8\" >140.00</td>\n",
       "    </tr>\n",
       "    <tr>\n",
       "      <th id=\"T_6e33b_level0_row4\" class=\"row_heading level0 row4\" >4</th>\n",
       "      <td id=\"T_6e33b_row4_col0\" class=\"data row4 col0\" >4</td>\n",
       "      <td id=\"T_6e33b_row4_col1\" class=\"data row4 col1\" >female</td>\n",
       "      <td id=\"T_6e33b_row4_col2\" class=\"data row4 col2\" >38</td>\n",
       "      <td id=\"T_6e33b_row4_col3\" class=\"data row4 col3\" >166.00</td>\n",
       "      <td id=\"T_6e33b_row4_col4\" class=\"data row4 col4\" >61.00</td>\n",
       "      <td id=\"T_6e33b_row4_col5\" class=\"data row4 col5\" >25.00</td>\n",
       "      <td id=\"T_6e33b_row4_col6\" class=\"data row4 col6\" >102.00</td>\n",
       "      <td id=\"T_6e33b_row4_col7\" class=\"data row4 col7\" >40.60</td>\n",
       "      <td id=\"T_6e33b_row4_col8\" class=\"data row4 col8\" >146.00</td>\n",
       "    </tr>\n",
       "  </tbody>\n",
       "</table>\n"
      ],
      "text/plain": [
       "<pandas.io.formats.style.Styler at 0x7da0105cbc50>"
      ]
     },
     "execution_count": 4,
     "metadata": {},
     "output_type": "execute_result"
    }
   ],
   "source": [
    "styled_df = train.head().style.set_properties(**{\"background-color\": \"#f9f9f9\", \"color\": \"#333333\", \"border\": \"1px solid #ccc\", \"font-weight\": \"normal\"}).set_table_styles([{\"selector\": \"th\", \"props\": [(\"background-color\", \"#1976d2\"), (\"color\", \"white\"), (\"font-weight\", \"bold\")]}]).format(precision=2)\n",
    "styled_df"
   ]
  },
  {
   "cell_type": "code",
   "execution_count": 5,
   "id": "40fa73ef",
   "metadata": {
    "execution": {
     "iopub.execute_input": "2025-05-12T02:05:28.657030Z",
     "iopub.status.busy": "2025-05-12T02:05:28.656740Z",
     "iopub.status.idle": "2025-05-12T02:05:28.722520Z",
     "shell.execute_reply": "2025-05-12T02:05:28.721624Z"
    },
    "papermill": {
     "duration": 0.07128,
     "end_time": "2025-05-12T02:05:28.723970",
     "exception": false,
     "start_time": "2025-05-12T02:05:28.652690",
     "status": "completed"
    },
    "tags": []
   },
   "outputs": [
    {
     "data": {
      "text/plain": [
       "id            0\n",
       "Sex           0\n",
       "Age           0\n",
       "Height        0\n",
       "Weight        0\n",
       "Duration      0\n",
       "Heart_Rate    0\n",
       "Body_Temp     0\n",
       "Calories      0\n",
       "dtype: int64"
      ]
     },
     "execution_count": 5,
     "metadata": {},
     "output_type": "execute_result"
    }
   ],
   "source": [
    "train.isna().sum()"
   ]
  },
  {
   "cell_type": "code",
   "execution_count": 6,
   "id": "22672f88",
   "metadata": {
    "execution": {
     "iopub.execute_input": "2025-05-12T02:05:28.733678Z",
     "iopub.status.busy": "2025-05-12T02:05:28.732775Z",
     "iopub.status.idle": "2025-05-12T02:05:28.794656Z",
     "shell.execute_reply": "2025-05-12T02:05:28.793746Z"
    },
    "papermill": {
     "duration": 0.069008,
     "end_time": "2025-05-12T02:05:28.796396",
     "exception": false,
     "start_time": "2025-05-12T02:05:28.727388",
     "status": "completed"
    },
    "tags": []
   },
   "outputs": [
    {
     "data": {
      "text/plain": [
       "id            0\n",
       "Sex           0\n",
       "Age           0\n",
       "Height        0\n",
       "Weight        0\n",
       "Duration      0\n",
       "Heart_Rate    0\n",
       "Body_Temp     0\n",
       "Calories      0\n",
       "dtype: int64"
      ]
     },
     "execution_count": 6,
     "metadata": {},
     "output_type": "execute_result"
    }
   ],
   "source": [
    "#Checking for missing values, no missing value present\n",
    "train.isna().sum()"
   ]
  },
  {
   "cell_type": "code",
   "execution_count": 7,
   "id": "540fd5ff",
   "metadata": {
    "execution": {
     "iopub.execute_input": "2025-05-12T02:05:28.804436Z",
     "iopub.status.busy": "2025-05-12T02:05:28.804123Z",
     "iopub.status.idle": "2025-05-12T02:05:29.082346Z",
     "shell.execute_reply": "2025-05-12T02:05:29.081360Z"
    },
    "papermill": {
     "duration": 0.284287,
     "end_time": "2025-05-12T02:05:29.084083",
     "exception": false,
     "start_time": "2025-05-12T02:05:28.799796",
     "status": "completed"
    },
    "tags": []
   },
   "outputs": [
    {
     "name": "stdout",
     "output_type": "stream",
     "text": [
      "These are the columns which has outlier values ['Height', 'Weight', 'Heart_Rate', 'Body_Temp', 'Calories']\n"
     ]
    }
   ],
   "source": [
    "#Checking for the outlier\n",
    "def outlier(df):\n",
    "    outlier_col = []\n",
    "    for col in df.select_dtypes(include='number').columns:\n",
    "        q1 = df[col].quantile(0.25)\n",
    "        q3 = df[col].quantile(0.75)\n",
    "        iqr = q3 - q1\n",
    "        lower_bound = q1 - 1.5 * iqr\n",
    "        upper_bound = q3 + 1.5 * iqr\n",
    "\n",
    "        # Check if any value in the column is an outlier\n",
    "        if ((df[col] < lower_bound) | (df[col] > upper_bound)).any():\n",
    "            outlier_col.append(col)\n",
    "    return outlier_col\n",
    "\n",
    "outlier_col = outlier(train)\n",
    "print(f\"These are the columns which has outlier values {outlier_col}\")\n",
    "\n",
    "#First iteration we will run with the outliers, in next we will check how we can handle the outliers"
   ]
  },
  {
   "cell_type": "code",
   "execution_count": 8,
   "id": "e1358b60",
   "metadata": {
    "execution": {
     "iopub.execute_input": "2025-05-12T02:05:29.092232Z",
     "iopub.status.busy": "2025-05-12T02:05:29.091868Z",
     "iopub.status.idle": "2025-05-12T02:05:29.098359Z",
     "shell.execute_reply": "2025-05-12T02:05:29.097367Z"
    },
    "papermill": {
     "duration": 0.01222,
     "end_time": "2025-05-12T02:05:29.099796",
     "exception": false,
     "start_time": "2025-05-12T02:05:29.087576",
     "status": "completed"
    },
    "tags": []
   },
   "outputs": [
    {
     "name": "stdout",
     "output_type": "stream",
     "text": [
      "These are the numberical columns in the dataframe: ['id', 'Age', 'Height', 'Weight', 'Duration', 'Heart_Rate', 'Body_Temp', 'Calories']\n",
      "These are the categorical columns in the dataframe: ['Sex']\n"
     ]
    }
   ],
   "source": [
    "#Separating categorical and numberical columns for the pipleline,\n",
    "def seperate_col(df):\n",
    "    num_col = [col for col in df.columns if df[col].dtype != object]\n",
    "    cat_col = [col for col in df.columns if df[col].dtype  == object]\n",
    "    return num_col, cat_col\n",
    "\n",
    "num_col,cat_col = seperate_col(train)\n",
    "print(f\"These are the numberical columns in the dataframe: {num_col}\")\n",
    "print(f\"These are the categorical columns in the dataframe: {cat_col}\")\n"
   ]
  },
  {
   "cell_type": "code",
   "execution_count": 9,
   "id": "a86d68c8",
   "metadata": {
    "execution": {
     "iopub.execute_input": "2025-05-12T02:05:29.107988Z",
     "iopub.status.busy": "2025-05-12T02:05:29.107685Z",
     "iopub.status.idle": "2025-05-12T02:05:29.136013Z",
     "shell.execute_reply": "2025-05-12T02:05:29.135063Z"
    },
    "papermill": {
     "duration": 0.034245,
     "end_time": "2025-05-12T02:05:29.137669",
     "exception": false,
     "start_time": "2025-05-12T02:05:29.103424",
     "status": "completed"
    },
    "tags": []
   },
   "outputs": [],
   "source": [
    "X = train.drop(columns='Calories')\n",
    "y  = train['Calories']"
   ]
  },
  {
   "cell_type": "code",
   "execution_count": 10,
   "id": "dc9f8f27",
   "metadata": {
    "execution": {
     "iopub.execute_input": "2025-05-12T02:05:29.145727Z",
     "iopub.status.busy": "2025-05-12T02:05:29.145445Z",
     "iopub.status.idle": "2025-05-12T02:05:29.150798Z",
     "shell.execute_reply": "2025-05-12T02:05:29.149800Z"
    },
    "papermill": {
     "duration": 0.011029,
     "end_time": "2025-05-12T02:05:29.152276",
     "exception": false,
     "start_time": "2025-05-12T02:05:29.141247",
     "status": "completed"
    },
    "tags": []
   },
   "outputs": [],
   "source": [
    "#Creating pipeline for numerical values\n",
    "\n",
    "# Numeric pipeline\n",
    "num_pipeline = Pipeline([\n",
    "    ('imputer', SimpleImputer(strategy='mean')),\n",
    "    ('scaler', StandardScaler())\n",
    "])\n",
    "\n",
    "# Categorical pipeline\n",
    "from sklearn.preprocessing import OneHotEncoder\n",
    "cat_pipeline = Pipeline([\n",
    "    ('imputer', SimpleImputer(strategy='most_frequent')),\n",
    "    ('encoder', OneHotEncoder(handle_unknown='ignore'))\n",
    "])\n",
    "\n"
   ]
  },
  {
   "cell_type": "code",
   "execution_count": 11,
   "id": "25fd63e7",
   "metadata": {
    "execution": {
     "iopub.execute_input": "2025-05-12T02:05:29.160561Z",
     "iopub.status.busy": "2025-05-12T02:05:29.160262Z",
     "iopub.status.idle": "2025-05-12T02:05:29.164557Z",
     "shell.execute_reply": "2025-05-12T02:05:29.163727Z"
    },
    "papermill": {
     "duration": 0.01012,
     "end_time": "2025-05-12T02:05:29.166017",
     "exception": false,
     "start_time": "2025-05-12T02:05:29.155897",
     "status": "completed"
    },
    "tags": []
   },
   "outputs": [],
   "source": [
    "preprocessor = ColumnTransformer([\n",
    "    ('num', num_pipeline, num_col),\n",
    "    ('cat', cat_pipeline, cat_col)\n",
    "])"
   ]
  },
  {
   "cell_type": "code",
   "execution_count": 12,
   "id": "c8b220c5",
   "metadata": {
    "execution": {
     "iopub.execute_input": "2025-05-12T02:05:29.173856Z",
     "iopub.status.busy": "2025-05-12T02:05:29.173544Z",
     "iopub.status.idle": "2025-05-12T02:05:29.177909Z",
     "shell.execute_reply": "2025-05-12T02:05:29.177073Z"
    },
    "papermill": {
     "duration": 0.009842,
     "end_time": "2025-05-12T02:05:29.179274",
     "exception": false,
     "start_time": "2025-05-12T02:05:29.169432",
     "status": "completed"
    },
    "tags": []
   },
   "outputs": [],
   "source": [
    "model_pipeline = Pipeline([\n",
    "    ('preprocessing', preprocessor),\n",
    "    ('Regressor', DecisionTreeRegressor())\n",
    "])\n"
   ]
  },
  {
   "cell_type": "code",
   "execution_count": 13,
   "id": "e30bd2be",
   "metadata": {
    "execution": {
     "iopub.execute_input": "2025-05-12T02:05:29.187637Z",
     "iopub.status.busy": "2025-05-12T02:05:29.187334Z",
     "iopub.status.idle": "2025-05-12T02:05:32.701137Z",
     "shell.execute_reply": "2025-05-12T02:05:32.700180Z"
    },
    "papermill": {
     "duration": 3.519778,
     "end_time": "2025-05-12T02:05:32.702770",
     "exception": false,
     "start_time": "2025-05-12T02:05:29.182992",
     "status": "completed"
    },
    "tags": []
   },
   "outputs": [
    {
     "name": "stdout",
     "output_type": "stream",
     "text": [
      "Mean Squared Error: 0.00\n"
     ]
    }
   ],
   "source": [
    "# 1. Train-test split\n",
    "X = train[num_col + cat_col]\n",
    "y = train['Calories']\n",
    "X_train, X_test, y_train, y_test = train_test_split(X, y, test_size=0.2, random_state=42)\n",
    "\n",
    "# 2. Fit pipeline\n",
    "model_pipeline.fit(X_train, y_train)\n",
    "\n",
    "# 3. Predict\n",
    "y_pred = model_pipeline.predict(X_test)\n",
    "\n",
    "# 4. Evaluate with MSE\n",
    "mse = mean_squared_error(y_test, y_pred)\n",
    "print(f\"Mean Squared Error: {mse:.2f}\")"
   ]
  }
 ],
 "metadata": {
  "kaggle": {
   "accelerator": "none",
   "dataSources": [
    {
     "databundleVersionId": 11893428,
     "sourceId": 91716,
     "sourceType": "competition"
    }
   ],
   "dockerImageVersionId": 31012,
   "isGpuEnabled": false,
   "isInternetEnabled": true,
   "language": "python",
   "sourceType": "notebook"
  },
  "kernelspec": {
   "display_name": "Python 3",
   "language": "python",
   "name": "python3"
  },
  "language_info": {
   "codemirror_mode": {
    "name": "ipython",
    "version": 3
   },
   "file_extension": ".py",
   "mimetype": "text/x-python",
   "name": "python",
   "nbconvert_exporter": "python",
   "pygments_lexer": "ipython3",
   "version": "3.11.11"
  },
  "papermill": {
   "default_parameters": {},
   "duration": 20.952886,
   "end_time": "2025-05-12T02:05:33.727393",
   "environment_variables": {},
   "exception": null,
   "input_path": "__notebook__.ipynb",
   "output_path": "__notebook__.ipynb",
   "parameters": {},
   "start_time": "2025-05-12T02:05:12.774507",
   "version": "2.6.0"
  }
 },
 "nbformat": 4,
 "nbformat_minor": 5
}
